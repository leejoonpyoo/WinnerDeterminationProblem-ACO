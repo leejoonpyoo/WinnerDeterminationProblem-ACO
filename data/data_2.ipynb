{
 "cells": [
  {
   "cell_type": "markdown",
   "metadata": {},
   "source": [
    "# WDP sample data instances"
   ]
  },
  {
   "cell_type": "markdown",
   "metadata": {},
   "source": [
    "## Preliminaries\n",
    "### Formulations"
   ]
  },
  {
   "cell_type": "code",
   "execution_count": 7,
   "metadata": {},
   "outputs": [
    {
     "name": "stderr",
     "output_type": "stream",
     "text": [
      "\u001b[32m\u001b[1m   Resolving\u001b[22m\u001b[39m package versions...\n",
      "\u001b[32m\u001b[1m  No Changes\u001b[22m\u001b[39m to `~/.julia/environments/v1.9/Project.toml`\n",
      "\u001b[32m\u001b[1m  No Changes\u001b[22m\u001b[39m to `~/.julia/environments/v1.9/Manifest.toml`\n",
      "\u001b[32m\u001b[1m   Resolving\u001b[22m\u001b[39m package versions...\n",
      "\u001b[32m\u001b[1m  No Changes\u001b[22m\u001b[39m to `~/.julia/environments/v1.9/Project.toml`\n",
      "\u001b[32m\u001b[1m  No Changes\u001b[22m\u001b[39m to `~/.julia/environments/v1.9/Manifest.toml`\n"
     ]
    }
   ],
   "source": [
    "using Pkg\n",
    "Pkg.add(\"Combinatorics\")\n",
    "Pkg.add(\"SimpleWeightedGraphs\")\n",
    "\n",
    "using Combinatorics, Graphs, SimpleWeightedGraphs, DataStructures"
   ]
  },
  {
   "cell_type": "code",
   "execution_count": 3,
   "metadata": {},
   "outputs": [],
   "source": [
    "# The number of items\n",
    "k = 10\n",
    "\n",
    "# The set of items\n",
    "S = [i for i in 1:k]\n",
    "\n",
    "# The number of bids to generate\n",
    "l = 100\n",
    "\n",
    "# Generate all combinations of S\n",
    "all_combinations = [c for c in combinations(S)]\n",
    "\n",
    "# Select l random combinations\n",
    "random_subsets = rand(all_combinations, l)\n",
    "\n",
    "# Bidding prices for each subset\n",
    "prices = rand(1:100, l)\n",
    "\n",
    "bids = Tuple{Array{Int64,1}, Int64}[]\n",
    "\n",
    "for i in 1:l\n",
    "    push!(bids, (random_subsets[i], prices[i]))\n",
    "end\n",
    "\n",
    "A = zeros(Int, k, l)\n",
    "\n",
    "for j in 1:l\n",
    "    for i in 1:k\n",
    "        if i in random_subsets[j]\n",
    "            A[i, j] = 1\n",
    "        end\n",
    "    end\n",
    "end"
   ]
  },
  {
   "cell_type": "markdown",
   "metadata": {},
   "source": [
    "### WDP-IP"
   ]
  },
  {
   "cell_type": "code",
   "execution_count": 4,
   "metadata": {},
   "outputs": [
    {
     "name": "stdout",
     "output_type": "stream",
     "text": [
      "Set parameter Username\n",
      "Academic license - for non-commercial use only - expires 2024-11-21\n"
     ]
    }
   ],
   "source": [
    "using JuMP, Gurobi\n",
    "\n",
    "m = Model(Gurobi.Optimizer)\n",
    "\n",
    "@variable(m, x[1:l], Bin)\n",
    "\n",
    "@objective(m, Max, sum(x[i] * prices[i] for i in 1:l))\n",
    "\n",
    "for i in 1:k\n",
    "    @constraint(m, sum(A[i, j]*x[j] for j in 1:l) <= 1)\n",
    "end\n"
   ]
  },
  {
   "cell_type": "code",
   "execution_count": 5,
   "metadata": {},
   "outputs": [
    {
     "name": "stdout",
     "output_type": "stream",
     "text": [
      "Gurobi Optimizer version 10.0.3 build v10.0.3rc0 (linux64)\n",
      "\n",
      "CPU model: AMD Ryzen 9 5900X 12-Core Processor, instruction set [SSE2|AVX|AVX2]\n",
      "Thread count: 12 physical cores, 24 logical processors, using up to 24 threads\n",
      "\n",
      "Optimize a model with 10 rows, 100 columns and 500 nonzeros\n",
      "Model fingerprint: 0xa4e840b2\n",
      "Variable types: 0 continuous, 100 integer (100 binary)\n",
      "Coefficient statistics:\n",
      "  Matrix range     [1e+00, 1e+00]\n",
      "  Objective range  [1e+00, 1e+02]\n",
      "  Bounds range     [0e+00, 0e+00]\n",
      "  RHS range        [1e+00, 1e+00]\n",
      "Found heuristic solution: objective 224.0000000\n",
      "Presolve removed 2 rows and 89 columns\n",
      "Presolve time: 0.00s\n",
      "Presolved: 8 rows, 11 columns, 37 nonzeros\n",
      "Variable types: 0 continuous, 11 integer (11 binary)\n",
      "Found heuristic solution: objective 266.0000000\n",
      "\n",
      "Root relaxation: objective 3.070000e+02, 3 iterations, 0.00 seconds (0.00 work units)\n",
      "\n",
      "    Nodes    |    Current Node    |     Objective Bounds      |     Work\n",
      " Expl Unexpl |  Obj  Depth IntInf | Incumbent    BestBd   Gap | It/Node Time\n",
      "\n",
      "*    0     0               0     307.0000000  307.00000  0.00%     -    0s\n",
      "\n",
      "Explored 1 nodes (3 simplex iterations) in 0.00 seconds (0.00 work units)\n",
      "Thread count was 24 (of 24 available processors)\n",
      "\n",
      "Solution count 3: 307 266 224 \n",
      "\n",
      "Optimal solution found (tolerance 1.00e-04)\n",
      "Best objective 3.070000000000e+02, best bound 3.070000000000e+02, gap 0.0000%\n",
      "\n",
      "User-callback calls 399, time in user-callback 0.00 sec\n"
     ]
    }
   ],
   "source": [
    "optimize!(m)"
   ]
  },
  {
   "cell_type": "code",
   "execution_count": 6,
   "metadata": {},
   "outputs": [
    {
     "data": {
      "text/plain": [
       "100-element Vector{Float64}:\n",
       "  0.0\n",
       " -0.0\n",
       "  0.0\n",
       "  0.0\n",
       "  0.0\n",
       "  0.0\n",
       " -0.0\n",
       "  0.0\n",
       "  0.0\n",
       "  0.0\n",
       "  ⋮\n",
       "  0.0\n",
       "  0.0\n",
       "  0.0\n",
       "  0.0\n",
       "  0.0\n",
       "  1.0\n",
       "  0.0\n",
       "  0.0\n",
       "  0.0"
      ]
     },
     "metadata": {},
     "output_type": "display_data"
    }
   ],
   "source": [
    "obj_value = objective_value(m)\n",
    "sol = value.(x)"
   ]
  },
  {
   "cell_type": "markdown",
   "metadata": {},
   "source": [
    "## Basic example\n",
    "- 2 items \n",
    "- 3 bids"
   ]
  },
  {
   "cell_type": "code",
   "execution_count": 8,
   "metadata": {},
   "outputs": [
    {
     "name": "stdout",
     "output_type": "stream",
     "text": [
      "Updated bids in deque:\n",
      "(Set([1]), 3)\n",
      "(Set([2]), 4)\n",
      "(Set([2, 1]), 10)\n"
     ]
    }
   ],
   "source": [
    "# Initial bids\n",
    "bids = [(Set([1]),3), (Set([2]),4), (Set([1,2]),9), (Set([1,2]), 10), (Set([2]),1)]\n",
    "\n",
    "function find_unique_bids(bids)\n",
    "    # Using a dictionary for efficient look-up and update\n",
    "    bid_dict = Dict{Set{Int}, Int}()\n",
    "\n",
    "    for bid in bids\n",
    "        subset, price = bid\n",
    "        # If the subset is not in the dictionary or the new price is higher, update the dictionary\n",
    "        if !haskey(bid_dict, subset) || bid_dict[subset] < price\n",
    "            bid_dict[subset] = price\n",
    "        end\n",
    "    end\n",
    "\n",
    "    # Convert the updated dictionary to a deque of tuples (for further operations if needed)\n",
    "    unique_bids = Deque{Tuple{Set{Int}, Int}}()\n",
    "\n",
    "    for (subset, price) in bid_dict\n",
    "        push!(unique_bids, (subset, price))\n",
    "    end\n",
    "\n",
    "    return unique_bids\n",
    "end"
   ]
  },
  {
   "cell_type": "code",
   "execution_count": 9,
   "metadata": {},
   "outputs": [
    {
     "data": {
      "text/plain": [
       "((Set([1]), 3), (Set([2]), 4), (Set([2, 1]), 9))"
      ]
     },
     "metadata": {},
     "output_type": "display_data"
    }
   ],
   "source": [
    "# bid \n",
    "S = [1, 2]\n",
    "unique_bids = ((Set([1]),3),(Set([2]),4),(Set([1,2]),9))"
   ]
  },
  {
   "cell_type": "code",
   "execution_count": 34,
   "metadata": {},
   "outputs": [
    {
     "data": {
      "text/plain": [
       "{5, 0} directed simple Int64 graph"
      ]
     },
     "metadata": {},
     "output_type": "display_data"
    }
   ],
   "source": [
    "n = length(unique_bids)\n",
    "g = SimpleDiGraph(n+2)"
   ]
  },
  {
   "cell_type": "code",
   "execution_count": 19,
   "metadata": {},
   "outputs": [
    {
     "data": {
      "text/plain": [
       "create_graph (generic function with 1 method)"
      ]
     },
     "metadata": {},
     "output_type": "display_data"
    }
   ],
   "source": [
    "# SimpleWeightedDiGraph .ver\n",
    "# sample\n",
    "unique_bids = [(Set([1]),3), (Set([2]),4), (Set([1,2]),9)]\n",
    "\n",
    "function create_graph(unique_bids)\n",
    "    # Number of unique bids\n",
    "    m = length(unique_bids)\n",
    "\n",
    "    # Create a graph with m+2 nodes \n",
    "    n_nodes = m + 2\n",
    "    g = SimpleWeightedDiGraph(n_nodes)\n",
    "\n",
    "    # Define source and target node \n",
    "    source = n_nodes - 1\n",
    "    target = n_nodes\n",
    "\n",
    "    for i in 1:m\n",
    "        add_edge!(g, source, i, unique_bids[i][2])\n",
    "        add_edge!(g, i, target, 1)\n",
    "    end\n",
    "\n",
    "    for i in 1:m\n",
    "        for j in 1:m\n",
    "            if i != j && isempty(intersect(unique_bids[i][1], unique_bids[j][1]))\n",
    "                add_edge!(g, i, j, unique_bids[j][2])\n",
    "            end\n",
    "        end\n",
    "    end\n",
    "\n",
    "    # subsets \n",
    "    subsets = [bid[1] for bid in unique_bids]\n",
    "\n",
    "    return g, subsets\n",
    "end"
   ]
  },
  {
   "cell_type": "code",
   "execution_count": 20,
   "metadata": {},
   "outputs": [
    {
     "data": {
      "text/plain": [
       "({5, 8} directed simple Int64 graph with Float64 weights, Set{Int64}[Set([1]), Set([2]), Set([2, 1])])"
      ]
     },
     "metadata": {},
     "output_type": "display_data"
    }
   ],
   "source": [
    "g, subsets = create_graph(unique_bids)"
   ]
  },
  {
   "cell_type": "code",
   "execution_count": 22,
   "metadata": {},
   "outputs": [
    {
     "data": {
      "text/plain": [
       "3-element Vector{Set{Int64}}:\n",
       " Set([1])\n",
       " Set([2])\n",
       " Set([2, 1])"
      ]
     },
     "metadata": {},
     "output_type": "display_data"
    }
   ],
   "source": [
    "subsets"
   ]
  },
  {
   "cell_type": "code",
   "execution_count": 27,
   "metadata": {},
   "outputs": [
    {
     "data": {
      "text/plain": [
       "2-element view(::Vector{Int64}, 1:2) with eltype Int64:\n",
       " 2\n",
       " 5"
      ]
     },
     "metadata": {},
     "output_type": "display_data"
    }
   ],
   "source": [
    "neighbors(g, 1)"
   ]
  },
  {
   "cell_type": "code",
   "execution_count": null,
   "metadata": {},
   "outputs": [],
   "source": [
    "# Longest path problem\n",
    "function longestPath(s, adj, V)\n",
    "    stack = Vector{Int}()\n",
    "    visited = falses(V)\n",
    "    dist = fill(-10^9, V)\n",
    "\n",
    "    function topologicalSortUtil(v)\n",
    "        visited[v] = true\n",
    "        for i in adj[v]\n",
    "            if !visited[i[1]]\n",
    "                topologicalSortUtil(i[1])\n",
    "            end\n",
    "        end\n",
    "        push!(stack, v)\n",
    "    end\n",
    "\n",
    "    # Topological Sort\n",
    "    for i in 1:V\n",
    "        if !visited[i]\n",
    "            topologicalSortUtil(i)\n",
    "        end\n",
    "    end\n",
    "\n",
    "    # Initialize distances to source\n",
    "    dist[s] = 0\n",
    "\n",
    "    # Process vertices in topological order\n",
    "    while !isempty(stack)\n",
    "        u = pop!(stack)\n",
    "\n",
    "        if dist[u] != -10^9\n",
    "            for i in adj[u]\n",
    "                if dist[i[1]] < dist[u] + i[2]\n",
    "                    dist[i[1]] = dist[u] + i[2]\n",
    "                end\n",
    "            end\n",
    "        end\n",
    "    end\n",
    "\n",
    "    # Print calculated longest distances\n",
    "    for i in 1:V\n",
    "        if dist[i] == -10^9\n",
    "            print(\"INF \")\n",
    "        else\n",
    "            print(dist[i], \" \")\n",
    "        end\n",
    "    end\n",
    "end"
   ]
  },
  {
   "cell_type": "code",
   "execution_count": null,
   "metadata": {},
   "outputs": [],
   "source": [
    "function WDP_longest_path(g, subsets)\n",
    "    n_nodes = nv(g)\n",
    "    source = n_nodes - 1\n",
    "    target = n_nodes\n",
    "    dist = fill(-Inf, n_nodes)\n",
    "    \n",
    "    num_items = [maximum(subset) for subset in subsets]\n",
    "    collected = falses(items)\n",
    "\n",
    "    stack = Vector{Int}()\n",
    "    visited = falses(n_nodes) \n",
    "\n",
    "    function dfs(v)\n",
    "        visited[v] = true\n",
    "        for u in neighbors(g, v)\n",
    "            if !visited[u] || !collected[i for i in subset[u]]\n",
    "                collected[i for i in subset[u]] = true\n",
    "                dfs(u)\n",
    "            end\n",
    "        push!(stack, v)\n",
    "        end\n",
    "    end\n",
    "\n",
    "    pred = fill(0, n_nodes)\n",
    "    dist[source] = 0\n",
    "    pred[source] = source\n",
    "\n",
    "    for i in 1:n_nodes\n",
    "        for e in edges(g)\n",
    "            u, v = src(e), dst(e)\n",
    "            if dist[u] + weight(e) > dist[v]\n",
    "                dist[v] = dist[u] + weight(e)\n",
    "                pred[v] = u\n",
    "            end\n",
    "        end\n",
    "    end\n",
    "    path = Int[]\n",
    "    v = target\n",
    "    while v != source\n",
    "        pushfirst!(path, v)\n",
    "        v = pred[v]\n",
    "    end\n",
    "    pushfirst!(path, source)\n",
    "    return path\n",
    "end"
   ]
  },
  {
   "cell_type": "code",
   "execution_count": null,
   "metadata": {},
   "outputs": [],
   "source": []
  },
  {
   "cell_type": "code",
   "execution_count": 38,
   "metadata": {},
   "outputs": [],
   "source": [
    "# sample\n",
    "unique_bids = [(Set([1]),3), (Set([2]),4), (Set([1,2]),9)]\n",
    "\n",
    "n = length(unique_bids) # Number of unique bids\n",
    "g = SimpleDiGraph(n+2) # Graph with two additional nodes for source and target\n",
    "\n",
    "# Define source and target node \n",
    "source = n + 1\n",
    "target = n + 2\n",
    "\n",
    "# Initialize a dictionary to store prices (capacities) of edges\n",
    "prices = Dict{Tuple{Int, Int}, Int}()\n",
    "\n",
    "# Add edges from source to all bid nodes with prices as their capacities\n",
    "for i in 1:n\n",
    "    add_edge!(g, source, i)\n",
    "    prices[(source, i)] = unique_bids[i][2]\n",
    "end\n",
    "\n",
    "# Check each pair of bids to add edges if they are disjoint and set capacities\n",
    "for i in 1:n\n",
    "    for j in 1:n\n",
    "        if i != j && isempty(intersect(unique_bids[i][1], unique_bids[j][1]))\n",
    "            add_edge!(g, i, j)\n",
    "            # Assuming you want to use the second bid's price for this edge's capacity\n",
    "            prices[(i, j)] = unique_bids[j][2]\n",
    "        end\n",
    "    end\n",
    "end\n",
    "\n",
    "# Add edges from all bid nodes to the target node with 0 capacity (or some other logic)\n",
    "for i in 1:n\n",
    "    add_edge!(g, i, target)\n",
    "    prices[(i, target)] = 0\n",
    "end"
   ]
  },
  {
   "cell_type": "code",
   "execution_count": 39,
   "metadata": {},
   "outputs": [
    {
     "data": {
      "text/plain": [
       "8-element Vector{Graphs.SimpleGraphs.SimpleEdge{Int64}}:\n",
       " Edge 1 => 2\n",
       " Edge 1 => 5\n",
       " Edge 2 => 1\n",
       " Edge 2 => 5\n",
       " Edge 3 => 5\n",
       " Edge 4 => 1\n",
       " Edge 4 => 2\n",
       " Edge 4 => 3"
      ]
     },
     "metadata": {},
     "output_type": "display_data"
    }
   ],
   "source": [
    "collect(edges(g))"
   ]
  },
  {
   "cell_type": "code",
   "execution_count": null,
   "metadata": {},
   "outputs": [],
   "source": [
    "maximum flow problem"
   ]
  },
  {
   "cell_type": "code",
   "execution_count": null,
   "metadata": {},
   "outputs": [],
   "source": []
  },
  {
   "cell_type": "code",
   "execution_count": null,
   "metadata": {},
   "outputs": [],
   "source": []
  }
 ],
 "metadata": {
  "kernelspec": {
   "display_name": "Julia 1.9.3",
   "language": "julia",
   "name": "julia-1.9"
  },
  "language_info": {
   "file_extension": ".jl",
   "mimetype": "application/julia",
   "name": "julia",
   "version": "1.9.3"
  }
 },
 "nbformat": 4,
 "nbformat_minor": 2
}
